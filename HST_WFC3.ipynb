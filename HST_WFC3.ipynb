{
 "cells": [
  {
   "cell_type": "markdown",
   "metadata": {
    "collapsed": true
   },
   "source": [
    "# HST's Tranisting Exoplanet Noise Simulator  (TExoNS)\n",
    "\n",
    "This file demonstrates how to use TExoNS to predict the:\n",
    "    1. Transmission/emission spectrum S/N ratio\n",
    "    2. Observation start window\n",
    "for any system observed with WFC3/IR.\n",
    "\n",
    "#### Background information\n",
    "    Pandeia: ETC for JWST\n",
    "    PandExo: Exoplanet noise simulator for JWST"
   ]
  },
  {
   "cell_type": "code",
   "execution_count": null,
   "metadata": {
    "collapsed": false
   },
   "outputs": [],
   "source": [
    "import pandexo.engine.justdoit as jdi"
   ]
  },
  {
   "cell_type": "markdown",
   "metadata": {},
   "source": [
    "## Edit Inputs\n",
    "\n",
    "### Load in a blank exoplanet dictionary "
   ]
  },
  {
   "cell_type": "code",
   "execution_count": null,
   "metadata": {
    "collapsed": false
   },
   "outputs": [],
   "source": [
    "exo_dict = jdi.load_exo_dict()"
   ]
  },
  {
   "cell_type": "markdown",
   "metadata": {},
   "source": [
    "#### Edit stellar and planet inputs"
   ]
  },
  {
   "cell_type": "code",
   "execution_count": null,
   "metadata": {
    "collapsed": true
   },
   "outputs": [],
   "source": [
    "#WASP-43\n",
    "exo_dict['star']['mag']      = 9.397                # H magnitude of the system\n",
    "#WASP-43b\n",
    "exo_dict['planet']['type']    = 'user'               # user specified inputs\n",
    "exo_dict['planet']['exopath'] = jdi.os.getcwd()+'/WASP43b-Eclipse_Spectrum.txt' # filename for model spectrum\n",
    "exo_dict['planet']['w_unit']  = 'um'                 # wavelength unit\n",
    "exo_dict['planet']['f_unit']  = 'fp/f*'              # flux ratio unit (can also put \"rp^2/r*^2\")\n",
    "exo_dict['planet']['depth']   = 4.0e-3               # flux ratio\n",
    "exo_dict['planet']['i']       = 82.6                 # Orbital inclination in degrees\n",
    "exo_dict['planet']['ars']     = 5.13                 # Semi-major axis / stellar radius\n",
    "exo_dict['planet']['period']  = 0.8135               # Orbital period in days   \n",
    "exo_dict['planet']['transit_duration']= 4170.0/60/60/24#(optional if given above info) transit duration in days\n",
    "exo_dict['planet']['w']       = 90                   #(optional) longitude of periastron. Default is 90\n",
    "exo_dict['planet']['ecc']     = 0                    #(optional) eccentricity. Default is 0 "
   ]
  },
  {
   "cell_type": "markdown",
   "metadata": {},
   "source": [
    "### Step 2) Load in instrument dictionary\n",
    " \n",
    "- WFC3 G141\n",
    "- WFC3 G102"
   ]
  },
  {
   "cell_type": "code",
   "execution_count": null,
   "metadata": {
    "collapsed": false
   },
   "outputs": [],
   "source": [
    "inst_dict = jdi.load_mode_dict('WFC3 G141')"
   ]
  },
  {
   "cell_type": "markdown",
   "metadata": {},
   "source": [
    "#### Edit HST/WFC3 detector and observation inputs"
   ]
  },
  {
   "cell_type": "code",
   "execution_count": null,
   "metadata": {
    "collapsed": false
   },
   "outputs": [],
   "source": [
    "exo_dict['observation']['noccultations']               = 5            # Number of transits/eclipses\n",
    "inst_dict['configuration']['detector']['subarray']     = 'GRISM256'   # GRISM256 or GRISM512\n",
    "inst_dict['configuration']['detector']['nsamp']        = 10           # WFC3 N_SAMP, 1..15\n",
    "inst_dict['configuration']['detector']['samp_seq']     = 'SPARS5'     # WFC3 SAMP_SEQ, SPARS5 or SPARS10\n",
    "inst_dict['strategy']['norbits']                       = 4            # Number of HST orbits\n",
    "inst_dict['strategy']['nchan']                       = 15           # Number of spectrophotometric channels\n",
    "inst_dict['strategy']['scanDirection']               = 'Forward'    # Spatial scan direction, Forward or Round Trip\n",
    "inst_dict['strategy']['schedulability']              = 30           # 30 for small/medium program, 100 for large program\n",
    "inst_dict['strategy']['windowSize']                  = 20           # (optional) Observation start window size in minutes. Default is 20 minutes."
   ]
  },
  {
   "cell_type": "markdown",
   "metadata": {},
   "source": [
    "## Run PandExo\n",
    "\n",
    "`    jdi.run_pandexo(exo, inst, param_space = 0, param_range = 0,save_file = True,\n",
    "                            output_path=os.getcwd(), output_file = '')`\n",
    "\n",
    "See wiki Attributes for more thorough explanation fo inputs\n"
   ]
  },
  {
   "cell_type": "code",
   "execution_count": null,
   "metadata": {
    "collapsed": false,
    "scrolled": true
   },
   "outputs": [],
   "source": [
    "foo = jdi.run_pandexo(exo_dict, inst_dict, output_file='wasp43b.p')"
   ]
  },
  {
   "cell_type": "code",
   "execution_count": null,
   "metadata": {
    "collapsed": false,
    "scrolled": true
   },
   "outputs": [],
   "source": [
    "inst_dict['configuration']['detector']['nsamp'] = None\n",
    "inst_dict['configuration']['detector']['samp_seq'] = None\n",
    "bar = jdi.run_pandexo(exo_dict, inst_dict, output_file='wasp43b.p')"
   ]
  },
  {
   "cell_type": "code",
   "execution_count": null,
   "metadata": {
    "collapsed": false
   },
   "outputs": [],
   "source": [
    "exo_dict['observation']['scanDirection'] = 'Round Trip'\n",
    "hst = jdi.run_pandexo(exo_dict, inst_dict, output_file='wasp43b.p')"
   ]
  },
  {
   "cell_type": "markdown",
   "metadata": {},
   "source": [
    "## Plot Results\n"
   ]
  },
  {
   "cell_type": "markdown",
   "metadata": {},
   "source": [
    "#### Plot simulated spectrum using specified file"
   ]
  },
  {
   "cell_type": "code",
   "execution_count": null,
   "metadata": {
    "collapsed": false,
    "scrolled": true
   },
   "outputs": [],
   "source": [
    "import pandexo.engine.justplotit as jpi \n",
    "#using foo from above\n",
    "#other keys include model=True/False\n",
    "datawave, dataspec, dataerror, modelwave, modelspec = jpi.hst_spec(foo)"
   ]
  },
  {
   "cell_type": "markdown",
   "metadata": {},
   "source": [
    "## Compute earliest and latest possible start times for given start window size"
   ]
  },
  {
   "cell_type": "code",
   "execution_count": null,
   "metadata": {
    "collapsed": false,
    "scrolled": true
   },
   "outputs": [],
   "source": [
    "#using foo from above\n",
    "obsphase1, obstr1, obsphase2, obstr2,rms = jpi.hst_time(foo)"
   ]
  },
  {
   "cell_type": "markdown",
   "metadata": {},
   "source": [
    "## Print important info for observation"
   ]
  },
  {
   "cell_type": "code",
   "execution_count": null,
   "metadata": {
    "collapsed": false
   },
   "outputs": [],
   "source": [
    "foo['wfc3_TExoNS']['info']"
   ]
  },
  {
   "cell_type": "code",
   "execution_count": null,
   "metadata": {
    "collapsed": true
   },
   "outputs": [],
   "source": []
  }
 ],
 "metadata": {
  "kernelspec": {
   "display_name": "Python 2",
   "language": "python",
   "name": "python2"
  },
  "language_info": {
   "codemirror_mode": {
    "name": "ipython",
    "version": 2
   },
   "file_extension": ".py",
   "mimetype": "text/x-python",
   "name": "python",
   "nbconvert_exporter": "python",
   "pygments_lexer": "ipython2",
   "version": "2.7.5"
  }
 },
 "nbformat": 4,
 "nbformat_minor": 0
}
