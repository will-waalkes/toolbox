{
 "cells": [
  {
   "cell_type": "code",
   "execution_count": 1,
   "metadata": {},
   "outputs": [],
   "source": [
    "%matplotlib inline\n",
    "import numpy as np\n",
    "import astropy.constants as c\n",
    "import astropy.units as u\n",
    "from astropy.io import ascii\n",
    "import matplotlib.pyplot as plt"
   ]
  },
  {
   "cell_type": "code",
   "execution_count": 2,
   "metadata": {},
   "outputs": [
    {
     "name": "stdout",
     "output_type": "stream",
     "text": [
      "  Name   = Nominal Earth equatorial radius\n",
      "  Value  = 6378100.0\n",
      "  Uncertainty  = 0.0\n",
      "  Unit  = m\n",
      "  Reference = IAU 2015 Resolution B 3   Name   = Astronomical Unit\n",
      "  Value  = 149597870700.0\n",
      "  Uncertainty  = 0.0\n",
      "  Unit  = m\n",
      "  Reference = IAU 2012 Resolution B2\n"
     ]
    }
   ],
   "source": [
    "#print(c.G)\n",
    "print(c.R_earth,c.au)"
   ]
  },
  {
   "cell_type": "code",
   "execution_count": 3,
   "metadata": {},
   "outputs": [
    {
     "name": "stdout",
     "output_type": "stream",
     "text": [
      "v_lower = 9582 m / s\n",
      "v_upper = 102444 m / s\n"
     ]
    }
   ],
   "source": [
    "M_star = 0.181*c.M_sun\n",
    "M_planet = 1.66*c.M_earth\n",
    "Rp = 1.13*c.R_earth\n",
    "R_star = 0.21*c.R_sun*1e2 *u.cm/u.m\n",
    "a = 0.0153*c.au\n",
    "\n",
    "v_upper = np.sqrt(c.G*M_star/a)\n",
    "v_lower = np.sqrt(c.G*M_planet/Rp)\n",
    "\n",
    "print('v_lower = {:.0f}'.format(v_lower))\n",
    "print('v_upper = {:.0f}'.format(v_upper))"
   ]
  },
  {
   "cell_type": "code",
   "execution_count": 4,
   "metadata": {},
   "outputs": [],
   "source": [
    "f = 0.4161\n",
    "b = 100e5 * u.cm / u.s #km/s\n",
    "mp = c.m_p*1e5 *u.g/u.kg\n",
    "mn = c.m_n*1e5 *u.g/u.kg\n",
    "lam_0 = 1215.67e-8 * u.cm\n",
    "m_e = c.m_e*1e3 * u.g/u.kg\n",
    "C = c.c * 1e2 * u.cm/u.m\n",
    "d_nu = b/lam_0\n",
    "delta = 0.13 #mid-transit depth, 0.36^2\n",
    "\n",
    "E2 = (c.e.esu)**2.0 * u.cm**3*u.g/u.s**2/u.Fr/u.Fr\n",
    "\n",
    "sigma = np.sqrt(np.pi)*E2*f/(m_e*C*d_nu)"
   ]
  },
  {
   "cell_type": "code",
   "execution_count": 5,
   "metadata": {},
   "outputs": [
    {
     "name": "stdout",
     "output_type": "stream",
     "text": [
      "958200.0 cm / s\n"
     ]
    }
   ],
   "source": [
    "#v = 102444*1e2 * u.cm / u.s\n",
    "v = 9582*1e2 * u.cm / u.s\n",
    "print(v)"
   ]
  },
  {
   "cell_type": "code",
   "execution_count": 6,
   "metadata": {},
   "outputs": [
    {
     "name": "stdout",
     "output_type": "stream",
     "text": [
      "0.718243134912017 g / s\n",
      "6866767.6681731865 yr\n"
     ]
    }
   ],
   "source": [
    "M_dot = (2.0*delta*R_star*mp*v/sigma)*(18.015/2.016) #this is mass loss of hydrogen\n",
    "print(M_dot/1e9)\n",
    "Ocean_loss = (1.4e24*(2.0/18.0) * u.g)/M_dot/3.154e7 *u.yr/u.s \n",
    "print(Ocean_loss)"
   ]
  },
  {
   "cell_type": "markdown",
   "metadata": {},
   "source": [
    "## Calculate the F(lyman alpha)/F(bol) ratio:"
   ]
  },
  {
   "cell_type": "code",
   "execution_count": 7,
   "metadata": {},
   "outputs": [
    {
     "name": "stdout",
     "output_type": "stream",
     "text": [
      "  Name   = Stefan-Boltzmann constant\n",
      "  Value  = 5.670367e-08\n",
      "  Uncertainty  = 1.3e-13\n",
      "  Unit  = W / (K4 m2)\n",
      "  Reference = CODATA 2014\n"
     ]
    }
   ],
   "source": [
    "print(c.sigma_sb)"
   ]
  },
  {
   "cell_type": "code",
   "execution_count": 8,
   "metadata": {},
   "outputs": [
    {
     "name": "stdout",
     "output_type": "stream",
     "text": [
      "1.007176464715656e-09 erg / (cm2 s)\n"
     ]
    }
   ],
   "source": [
    "R_gj1132 =  0.2105*c.R_sun * 1e2 * u.cm / u.m\n",
    "T_gj1132 = 3270 * u.K\n",
    "d_gj1132 = 12.04*3.086e18 * u.cm\n",
    "T_sun = 5778.0 * u.K\n",
    "F_bol = c.sigma_sb*((R_gj1132/d_gj1132)**2.0)*(T_gj1132**4.0) *1.0e7 * u.erg / u.s / u.W /1e4 *u.m*u.m/u.cm/u.cm\n",
    "print(F_bol)"
   ]
  },
  {
   "cell_type": "code",
   "execution_count": 9,
   "metadata": {},
   "outputs": [],
   "source": [
    "F_lyman_v1 = 2.9e-14 * (u.erg/u.s) / u.cm / u.cm\n",
    "F_lyman_err_v1 = 4.4e-15 * (u.erg/u.s) / u.cm / u.cm\n",
    "\n",
    "F_lyman_v2 = 4.3e-14 * (u.erg/u.s) / u.cm / u.cm\n",
    "F_lyman_err_v2 = 5e-15 * (u.erg/u.s) / u.cm / u.cm"
   ]
  },
  {
   "cell_type": "code",
   "execution_count": 10,
   "metadata": {},
   "outputs": [],
   "source": [
    "GJ1132_rel_flux_v1 = F_lyman_v1/F_bol\n",
    "GJ1132_rel_flux_err_v1 = F_lyman_err_v1/F_bol\n",
    "\n",
    "GJ1132_rel_flux_v2 = F_lyman_v2/F_bol\n",
    "GJ1132_rel_flux_err_v2 = F_lyman_err_v2/F_bol"
   ]
  },
  {
   "cell_type": "code",
   "execution_count": 11,
   "metadata": {},
   "outputs": [],
   "source": [
    "names = ['TRAPPIST-1','Epsilon Eri','HD 85512', 'HD 40307','HD 97658','Gl 832', 'Gl 876',\n",
    "         'Gl 581', 'Gl 176', 'Gl 436', 'Gl 667C', 'GJ 1214', 'Proxima Cen','GJ 3470']\n",
    "distances = [12.1,3.2,11.2,13,21.1,5.0,4.7,6.2,9.3,10.1,6.8,14.6,1.3,29.45] #parsec\n",
    "distances = np.array(distances)\n",
    "radii = [0.117,0.74,.7,.83,.72,0.46,0.37,0.3,0.45,0.45,0.46,0.21,0.14,0.547] #R_sun\n",
    "radii = np.array(radii)\n",
    "lya_flux = [8.03e-15,6.1e-11,1.2e-12,2.0e-12,4.17e-13,9.5e-13,3.9e-13,1.1e-13,3.9e-13,\n",
    "            2.05e-13,5.2e-13,1.3e-14,4.37e-12,9.86e-14]\n",
    "lya_flux = np.array(lya_flux)\n",
    "lya_flux_err = [(0.015/0.05)*8.03e-15,0.2e-11,1.15e-12,1.05e-12,1.21e-14,6e-14,4e-14,\n",
    "                3e-14,2e-14,3e-14,9e-14,1e-14,7e-14,4.07e-15]\n",
    "lya_flux_err = np.array(lya_flux_err/lya_flux)\n",
    "t_eff = [2550,5084,4715,4977,5119,3590,3130,3500,3680,3420,3450,2820,3100,3652] #Kelvin\n",
    "t_eff = np.array(t_eff)\n",
    "\n",
    "radii_axis = radii"
   ]
  },
  {
   "cell_type": "code",
   "execution_count": 12,
   "metadata": {},
   "outputs": [
    {
     "data": {
      "text/plain": [
       "0.024710627852431746"
      ]
     },
     "execution_count": 12,
     "metadata": {},
     "output_type": "execute_result"
    }
   ],
   "source": [
    "par_per_au = 4.84814e-6\n",
    "corr_HD97658 = 4e-15/(par_per_au/12.05)**2.0\n",
    "corr_HD97658"
   ]
  },
  {
   "cell_type": "code",
   "execution_count": 13,
   "metadata": {},
   "outputs": [],
   "source": [
    "Radii = radii*c.R_sun * 1e2 * u.cm / u.m\n",
    "distance = distances * 3.086e18 * u.cm\n",
    "T_eff = t_eff * u.K\n",
    "f_bol = c.sigma_sb*((Radii/distance)**2.0)*(T_eff**4.0) *1.0e7 * u.erg / u.s / u.W /1e4 *u.m*u.m/u.cm/u.cm\n",
    "\n",
    "rel_flux = lya_flux*(u.erg/u.s/u.cm/u.cm)/f_bol\n",
    "#rel_flux_err = lya_flux_err*(u.erg/u.s/u.cm/u.cm)/f_bol"
   ]
  },
  {
   "cell_type": "code",
   "execution_count": 14,
   "metadata": {},
   "outputs": [
    {
     "name": "stdout",
     "output_type": "stream",
     "text": [
      "14 14\n",
      "[7.04839946e-05 5.92489766e-05 2.15690537e-05 2.77476764e-05\n",
      " 1.80980641e-05 2.34480550e-05 2.27518226e-05 1.08642073e-05\n",
      " 3.15174353e-05 2.61941207e-05 2.78333701e-05 3.44786863e-05\n",
      " 1.41580018e-04 5.57553381e-05]\n"
     ]
    }
   ],
   "source": [
    "print(len(radii_axis),len(rel_flux))\n",
    "print(rel_flux)"
   ]
  },
  {
   "cell_type": "code",
   "execution_count": 15,
   "metadata": {},
   "outputs": [],
   "source": [
    "Solar_lya_min = 5.95 *u.erg/u.cm/u.cm/u.s\n",
    "Solar_lya_max = 11.2 *u.erg/u.cm/u.cm/u.s\n",
    "Solar_bol = c.sigma_sb*T_sun**4.0*(c.R_sun/(1.496e11*u.m))**2.0 *1.0e7 * u.erg/u.s / u.W /1e4 *u.m*u.m/u.cm/u.cm\n",
    "Solar_ratio_min = Solar_lya_min/Solar_bol\n",
    "Solar_ratio_max = Solar_lya_max/Solar_bol"
   ]
  },
  {
   "cell_type": "code",
   "execution_count": 16,
   "metadata": {},
   "outputs": [
    {
     "data": {
      "text/plain": [
       "<Figure size 432x288 with 0 Axes>"
      ]
     },
     "metadata": {},
     "output_type": "display_data"
    },
    {
     "data": {
      "image/png": "[encoded data removed]",
      "text/plain": [
       "<Figure size 576x576 with 1 Axes>"
      ]
     },
     "metadata": {},
     "output_type": "display_data"
    }
   ],
   "source": [
    "plt.figure()\n",
    "plt.figure(figsize=(8,8))\n",
    "plt.xlabel('Radius (R$_{\\odot}$)',fontsize=16)\n",
    "plt.ylabel(r'F$_{Ly\\alpha}$/F$_{Bol}$',fontsize=16)\n",
    "plt.title(r'Lyman-$\\alpha$ Flux for Exoplanet Hosts',fontsize=16)\n",
    "plt.errorbar(0.2105, GJ1132_rel_flux_v1, yerr = GJ1132_rel_flux_err_v1, color = 'red',\n",
    "            label = 'Gj 1132 Visit 1',marker='*',zorder=100,alpha=0.9,fmt='o',\n",
    "             markersize=13, capsize=3)\n",
    "plt.errorbar(0.2105, GJ1132_rel_flux_v2, yerr = GJ1132_rel_flux_err_v2, color = 'red',\n",
    "            label = 'Gj 1132 Visit 2',marker='*',zorder=100,alpha=0.9,fmt='o',\n",
    "             markersize=13, capsize=3)\n",
    "for i in range(len(radii_axis)):\n",
    "    if i != 10:\n",
    "        if i != 5:\n",
    "            plt.errorbar(radii_axis[i],rel_flux[i],yerr=lya_flux_err[i]*rel_flux[i],label=names[i],\n",
    "                color='gray',alpha=0.8,fmt='o')\n",
    "    \n",
    "plt.scatter(1.0,Solar_ratio_min,label='Solar Min',color='red',\n",
    "             zorder=100,alpha=0.9)\n",
    "plt.scatter(1.0,Solar_ratio_max,label='Solar Max',color='red',\n",
    "             zorder=100,alpha=0.9)\n",
    "\n",
    "plt.yscale('log')\n",
    "plt.ylim(.3e-5,.3e-3)\n",
    "plt.xlim(0,1.15)\n",
    "#plt.tight_layout()\n",
    "#lgd = plt.legend(bbox_to_anchor=[1,1])\n",
    "\n",
    "for i,txt in enumerate(names):\n",
    "    if i != 10:\n",
    "        if i != 5:\n",
    "            plt.annotate(txt, (radii_axis[i]+0.02, rel_flux[i]),zorder=200,fontsize='x-large')\n",
    "    \n",
    "plt.annotate('GJ 1132 V1', (0.2105-0.2, GJ1132_rel_flux_v1),fontsize='large')\n",
    "plt.annotate('GJ 1132 V2', (0.2105-0.2, GJ1132_rel_flux_v2),fontsize='large')\n",
    "plt.annotate('Solar Min', (1.0-0.025,Solar_ratio_min+0.4e-6),fontsize='x-large')\n",
    "plt.annotate('Solar Max', (1.0-0.035,Solar_ratio_max+0.4e-6),fontsize='x-large')\n",
    "    \n",
    "#plt.savefig('MUSCLES_Scatter.pdf',bbox_extra_artists=(lgd,), bbox_inches='tight')\n",
    "plt.savefig('MUSCLES_Scatter.pdf')"
   ]
  },
  {
   "cell_type": "code",
   "execution_count": 17,
   "metadata": {},
   "outputs": [
    {
     "name": "stdout",
     "output_type": "stream",
     "text": [
      "61145244.75604914 erg / (cm2 s) 1.007176464715656e-09 erg / (cm2 s)\n",
      "3.715544e+19 cm\n",
      "1.582263032810149e+16\n",
      "6.070956470702634e+16\n"
     ]
    }
   ],
   "source": [
    "GJ_EUV = 3.93603813934e26 *u.erg/u.s\n",
    "GJ_EUV = GJ_EUV*((R_gj1132/d_gj1132)**2.0) /u.cm/u.cm\n",
    "print(GJ_EUV,F_bol)\n",
    "print(d_gj1132)\n",
    "gj_ratio = GJ_EUV/F_bol\n",
    "\n",
    "Solar_EUV = 1e27*(c.R_sun/(1.496e11*u.m))**2.0 *u.erg/u.s/u.cm/u.cm\n",
    "sun_ratio = Solar_EUV/Solar_bol\n",
    "print(sun_ratio)\n",
    "print(gj_ratio)"
   ]
  },
  {
   "cell_type": "markdown",
   "metadata": {},
   "source": [
    "## Create the table of reconstructed Lyman-$\\alpha$  for Vincent"
   ]
  },
  {
   "cell_type": "code",
   "execution_count": 18,
   "metadata": {},
   "outputs": [
    {
     "name": "stdout",
     "output_type": "stream",
     "text": [
      "Composite_err.txt        erg_visit1_red.txt       rederrorv2.txt\n",
      "Composite_f.txt          erg_visit2_blue.txt      redshiftv1.txt\n",
      "Lya_model_best.txt       erg_visit2_red.txt       redshiftv2.txt\n",
      "Observed_wavelengths.txt full_visit1_blue.txt     transittimesv1.txt\n",
      "blueerrorv1.txt          full_visit1_red.txt      transittimesv2.txt\n",
      "blueerrorv2.txt          full_visit2_blue.txt     visit1_blue.txt\n",
      "blueshiftv1.txt          full_visit2_red.txt      visit1_red.txt\n",
      "blueshiftv2.txt          model_waves.txt          visit2_blue.txt\n",
      "erg_visit1_blue.txt      rederrorv1.txt           visit2_red.txt\n"
     ]
    }
   ],
   "source": [
    "!ls *.txt"
   ]
  },
  {
   "cell_type": "code",
   "execution_count": 19,
   "metadata": {},
   "outputs": [
    {
     "data": {
      "text/plain": [
       "(1,)"
      ]
     },
     "execution_count": 19,
     "metadata": {},
     "output_type": "execute_result"
    }
   ],
   "source": [
    "model = ascii.read('Lya_model_best.txt')\n",
    "model_waves = ascii.read('model_waves.txt')\n",
    "obs_waves = ascii.read('Observed_wavelengths.txt')\n",
    "obs_flux = ascii.read('Composite_f.txt')\n",
    "np.shape(model[0:1])"
   ]
  },
  {
   "cell_type": "code",
   "execution_count": 20,
   "metadata": {},
   "outputs": [
    {
     "ename": "NameError",
     "evalue": "name 'waves' is not defined",
     "output_type": "error",
     "traceback": [
      "\u001b[0;31m---------------------------------------------------------------------------\u001b[0m",
      "\u001b[0;31mNameError\u001b[0m                                 Traceback (most recent call last)",
      "\u001b[0;32m<ipython-input-20-189d769d69d4>\u001b[0m in \u001b[0;36m<module>\u001b[0;34m()\u001b[0m\n\u001b[0;32m----> 1\u001b[0;31m \u001b[0mw_min\u001b[0m \u001b[0;34m=\u001b[0m \u001b[0mwaves\u001b[0m\u001b[0;34m[\u001b[0m\u001b[0;36m0\u001b[0m\u001b[0;34m:\u001b[0m\u001b[0;36m1\u001b[0m\u001b[0;34m]\u001b[0m\u001b[0;34m[\u001b[0m\u001b[0;36m0\u001b[0m\u001b[0;34m]\u001b[0m\u001b[0;34m.\u001b[0m\u001b[0mdata\u001b[0m\u001b[0;34m\u001b[0m\u001b[0m\n\u001b[0m\u001b[1;32m      2\u001b[0m \u001b[0mw_max\u001b[0m \u001b[0;34m=\u001b[0m \u001b[0mwaves\u001b[0m\u001b[0;34m[\u001b[0m\u001b[0;36m0\u001b[0m\u001b[0;34m:\u001b[0m\u001b[0;34m]\u001b[0m\u001b[0;34m[\u001b[0m\u001b[0;34m-\u001b[0m\u001b[0;36m1\u001b[0m\u001b[0;34m]\u001b[0m\u001b[0;34m\u001b[0m\u001b[0m\n\u001b[1;32m      3\u001b[0m \u001b[0;34m\u001b[0m\u001b[0m\n\u001b[1;32m      4\u001b[0m \u001b[0mprint\u001b[0m\u001b[0;34m(\u001b[0m\u001b[0mw_min\u001b[0m\u001b[0;34m)\u001b[0m\u001b[0;34m\u001b[0m\u001b[0m\n\u001b[1;32m      5\u001b[0m \u001b[0;31m#print(waves)\u001b[0m\u001b[0;34m\u001b[0m\u001b[0;34m\u001b[0m\u001b[0m\n",
      "\u001b[0;31mNameError\u001b[0m: name 'waves' is not defined"
     ]
    }
   ],
   "source": [
    "w_min = waves[0:1][0].data\n",
    "w_max = waves[0:][-1]\n",
    "\n",
    "print(w_min)\n",
    "#print(waves)"
   ]
  },
  {
   "cell_type": "code",
   "execution_count": 21,
   "metadata": {},
   "outputs": [
    {
     "ename": "NameError",
     "evalue": "name 'waves' is not defined",
     "output_type": "error",
     "traceback": [
      "\u001b[0;31m---------------------------------------------------------------------------\u001b[0m",
      "\u001b[0;31mNameError\u001b[0m                                 Traceback (most recent call last)",
      "\u001b[0;32m<ipython-input-21-3e527f160c37>\u001b[0m in \u001b[0;36m<module>\u001b[0;34m()\u001b[0m\n\u001b[0;32m----> 1\u001b[0;31m \u001b[0mprint\u001b[0m\u001b[0;34m(\u001b[0m\u001b[0mwaves\u001b[0m\u001b[0;34m.\u001b[0m\u001b[0mcolnames\u001b[0m\u001b[0;34m)\u001b[0m\u001b[0;34m\u001b[0m\u001b[0m\n\u001b[0m",
      "\u001b[0;31mNameError\u001b[0m: name 'waves' is not defined"
     ]
    }
   ],
   "source": [
    "print(waves.colnames)"
   ]
  },
  {
   "cell_type": "code",
   "execution_count": 22,
   "metadata": {},
   "outputs": [
    {
     "ename": "NameError",
     "evalue": "name 'waves' is not defined",
     "output_type": "error",
     "traceback": [
      "\u001b[0;31m---------------------------------------------------------------------------\u001b[0m",
      "\u001b[0;31mNameError\u001b[0m                                 Traceback (most recent call last)",
      "\u001b[0;32m<ipython-input-22-474ccc6ab6a1>\u001b[0m in \u001b[0;36m<module>\u001b[0;34m()\u001b[0m\n\u001b[0;32m----> 1\u001b[0;31m \u001b[0mwaves\u001b[0m\u001b[0;34m[\u001b[0m\u001b[0;34m'1.214031864785797097e+03'\u001b[0m\u001b[0;34m]\u001b[0m\u001b[0;34m.\u001b[0m\u001b[0mdata\u001b[0m\u001b[0;34m\u001b[0m\u001b[0m\n\u001b[0m",
      "\u001b[0;31mNameError\u001b[0m: name 'waves' is not defined"
     ]
    }
   ],
   "source": [
    "waves['1.214031864785797097e+03'].data"
   ]
  },
  {
   "cell_type": "code",
   "execution_count": 23,
   "metadata": {},
   "outputs": [
    {
     "name": "stdout",
     "output_type": "stream",
     "text": [
      "[1214.03186479 1214.08523842 1214.13861172 1214.19198466 1214.24535727\n",
      " 1214.29872952 1214.35210143 1214.40547299 1214.45884421 1214.51221508\n",
      " 1214.56558561 1214.61895579 1214.67232562 1214.72569511 1214.77906425\n",
      " 1214.83243305 1214.8858015  1214.93916961 1214.99253737 1215.04590478\n",
      " 1215.09927185 1215.15263857 1215.20600495 1215.25937098 1215.31273666\n",
      " 1215.366102   1215.41946699 1215.47283164 1215.52619594 1215.5795599\n",
      " 1215.63292351 1215.68628677 1215.73964969 1215.79301227 1215.84637449\n",
      " 1215.89973637 1215.95309791 1216.0064591  1216.05981995 1216.11318045\n",
      " 1216.1665406  1216.21990041 1216.27325987 1216.32661899 1216.37997776\n",
      " 1216.43333618 1216.48669426 1216.540052   1216.59340938 1216.64676643\n",
      " 1216.70012312 1216.75347948 1216.80683548 1216.86019114 1216.91354646\n",
      " 1216.96690143 1217.02025605 1217.07361033 1217.12696426 1217.18031785\n",
      " 1217.23367109 1217.28702399 1217.34037654 1217.39372875 1217.44708061\n",
      " 1217.50043212 1217.55378329 1217.60713411 1217.66048459 1217.71383472\n",
      " 1217.76718451 1217.82053395 1217.87388305 1217.9272318  1217.98058021]\n"
     ]
    }
   ],
   "source": [
    "wavelengths = np.loadtxt('model_waves.txt')\n",
    "print(wavelengths)"
   ]
  },
  {
   "cell_type": "code",
   "execution_count": 24,
   "metadata": {},
   "outputs": [
    {
     "ename": "NameError",
     "evalue": "name 'waves' is not defined",
     "output_type": "error",
     "traceback": [
      "\u001b[0;31m---------------------------------------------------------------------------\u001b[0m",
      "\u001b[0;31mNameError\u001b[0m                                 Traceback (most recent call last)",
      "\u001b[0;32m<ipython-input-24-b27c2f899d4d>\u001b[0m in \u001b[0;36m<module>\u001b[0;34m()\u001b[0m\n\u001b[1;32m      1\u001b[0m \u001b[0mplt\u001b[0m\u001b[0;34m.\u001b[0m\u001b[0mfigure\u001b[0m\u001b[0;34m(\u001b[0m\u001b[0;34m)\u001b[0m\u001b[0;34m\u001b[0m\u001b[0m\n\u001b[0;32m----> 2\u001b[0;31m \u001b[0mplt\u001b[0m\u001b[0;34m.\u001b[0m\u001b[0mplot\u001b[0m\u001b[0;34m(\u001b[0m\u001b[0mwaves\u001b[0m\u001b[0;34m,\u001b[0m\u001b[0mmodel\u001b[0m\u001b[0;34m)\u001b[0m\u001b[0;34m\u001b[0m\u001b[0m\n\u001b[0m\u001b[1;32m      3\u001b[0m \u001b[0;34m\u001b[0m\u001b[0m\n\u001b[1;32m      4\u001b[0m \u001b[0mplt\u001b[0m\u001b[0;34m.\u001b[0m\u001b[0mfigure\u001b[0m\u001b[0;34m(\u001b[0m\u001b[0;34m)\u001b[0m\u001b[0;34m\u001b[0m\u001b[0m\n\u001b[1;32m      5\u001b[0m \u001b[0mplt\u001b[0m\u001b[0;34m.\u001b[0m\u001b[0mplot\u001b[0m\u001b[0;34m(\u001b[0m\u001b[0mobs_waves\u001b[0m\u001b[0;34m,\u001b[0m\u001b[0mobs_flux\u001b[0m\u001b[0;34m)\u001b[0m\u001b[0;34m\u001b[0m\u001b[0m\n",
      "\u001b[0;31mNameError\u001b[0m: name 'waves' is not defined"
     ]
    },
    {
     "data": {
      "text/plain": [
       "<Figure size 432x288 with 0 Axes>"
      ]
     },
     "metadata": {},
     "output_type": "display_data"
    }
   ],
   "source": [
    "plt.figure()\n",
    "plt.plot(waves,model)\n",
    "\n",
    "plt.figure()\n",
    "plt.plot(obs_waves,obs_flux)\n",
    "plt.xlim(waves[0:][0],waves[0:][-1])"
   ]
  },
  {
   "cell_type": "code",
   "execution_count": 25,
   "metadata": {},
   "outputs": [
    {
     "ename": "TypeError",
     "evalue": "float() argument must be a string or a number, not 'Table'",
     "output_type": "error",
     "traceback": [
      "\u001b[0;31m---------------------------------------------------------------------------\u001b[0m",
      "\u001b[0;31mTypeError\u001b[0m                                 Traceback (most recent call last)",
      "\u001b[0;32m<ipython-input-25-48bb0763530d>\u001b[0m in \u001b[0;36m<module>\u001b[0;34m()\u001b[0m\n\u001b[1;32m      1\u001b[0m \u001b[0mdistance\u001b[0m \u001b[0;34m=\u001b[0m \u001b[0;36m2483428.2672\u001b[0m \u001b[0;31m#the number of AU away it is, from 12.04 pc\u001b[0m\u001b[0;34m\u001b[0m\u001b[0m\n\u001b[1;32m      2\u001b[0m \u001b[0;34m\u001b[0m\u001b[0m\n\u001b[0;32m----> 3\u001b[0;31m \u001b[0mModel_1AU\u001b[0m \u001b[0;34m=\u001b[0m \u001b[0mnp\u001b[0m\u001b[0;34m.\u001b[0m\u001b[0mfloat\u001b[0m\u001b[0;34m(\u001b[0m\u001b[0mmodel\u001b[0m\u001b[0;34m)\u001b[0m\u001b[0;34m*\u001b[0m\u001b[0mdistance\u001b[0m\u001b[0;34m**\u001b[0m\u001b[0;36m2\u001b[0m\u001b[0;34m\u001b[0m\u001b[0m\n\u001b[0m",
      "\u001b[0;31mTypeError\u001b[0m: float() argument must be a string or a number, not 'Table'"
     ]
    }
   ],
   "source": [
    "distance = 2483428.2672 #the number of AU away it is, from 12.04 pc\n",
    "\n",
    "Model_1AU = np.float(model)*distance**2"
   ]
  },
  {
   "cell_type": "markdown",
   "metadata": {},
   "source": [
    "## Energy limited mass loss"
   ]
  },
  {
   "cell_type": "code",
   "execution_count": 39,
   "metadata": {},
   "outputs": [],
   "source": [
    "Rp = 1.13*c.R_earth\n",
    "a = 0.0153*c.au\n",
    "R_star = 0.21*c.R_sun*1e2 *u.cm/u.m\n",
    "M_planet = 1.66*c.M_earth\n",
    "\n",
    "L_xuv = 0.028*u.erg/u.s * 4*np.pi*(1.496e13)**2.0 #luminosity at the star\n",
    "L_euv = 4.42e26*u.erg/u.s\n",
    "L_lya = 3.42e-14*4*np.pi*(12.04*3.086e+18)**2.0 *u.erg/u.s\n",
    "\n",
    "F = (L_euv + L_xuv + L_lya)/(4.0*np.pi*(a*100*u.cm/u.m)**2)\n",
    "Fxuv = (L_xuv+L_euv)/(4.0*np.pi*(a*100*u.cm/u.m)**2)\n",
    "\n",
    "m_dot = np.pi*Fxuv*Rp**3.0/(c.G*M_planet)"
   ]
  },
  {
   "cell_type": "code",
   "execution_count": 40,
   "metadata": {},
   "outputs": [
    {
     "name": "stdout",
     "output_type": "stream",
     "text": [
      "791.0114737834052 erg / (cm2 s)\n",
      "1692.244789083541 erg / (cm2 s)\n",
      "1406035028.3304434 erg s / cm2\n"
     ]
    }
   ],
   "source": [
    "print(Fxuv)\n",
    "print(F)\n",
    "print(m_dot)"
   ]
  },
  {
   "cell_type": "markdown",
   "metadata": {},
   "source": [
    "## Plot in transit and out of transit model spectra"
   ]
  },
  {
   "cell_type": "code",
   "execution_count": 4,
   "metadata": {},
   "outputs": [],
   "source": [
    "spectra_fold = '/Users/willwaalkes/Desktop/Transients/Research/HST_like_spectra/'\n",
    "\n",
    "in_transit = np.loadtxt(spectra_fold+'Flux_t-0.000h.dat')\n",
    "out_of_transit = np.loadtxt(spectra_fold+'Flux_t-3.917h.dat')"
   ]
  },
  {
   "cell_type": "code",
   "execution_count": 5,
   "metadata": {},
   "outputs": [],
   "source": [
    "wave_in = in_transit[:,0]\n",
    "flux_in1 = in_transit[:,1]\n",
    "flux_in2 = in_transit[:,2]\n",
    "flux_in3 = in_transit[:,3]\n",
    "\n",
    "wave_out = out_of_transit[:,0]\n",
    "flux_out1 = out_of_transit[:,1]\n",
    "flux_out2 = out_of_transit[:,2]\n",
    "flux_out3 = out_of_transit[:,3]"
   ]
  },
  {
   "cell_type": "code",
   "execution_count": 11,
   "metadata": {},
   "outputs": [
    {
     "data": {
      "image/png": "[encoded data removed]",
      "text/plain": [
       "<Figure size 576x720 with 2 Axes>"
      ]
     },
     "metadata": {},
     "output_type": "display_data"
    }
   ],
   "source": [
    "fig, (ax1,ax2) = plt.subplots(2,1,sharex=True,figsize=(8,10))\n",
    "ax1.set_title(r'Model Ly$\\alpha$ Absorption Spectra In and Out of Transit',fontsize=16)\n",
    "ax1.plot(wave_in,1e14*flux_in3,label='In Transit',color='b',linestyle='--',alpha=0.6)\n",
    "ax1.plot(wave_out,1e14*flux_out3,label='Out of Transit',color='k',zorder=-100)\n",
    "ax1.set_xlim(1214.5,1217)\n",
    "ax1.set_ylim(0,)\n",
    "ax1.set_ylabel(r'Flux ($\\times10^{14}$ erg s$^{-1}$ cm$^{-2}$ $\\rm{\\AA^{-1}}$)',fontsize=15)\n",
    "ax1.legend()\n",
    "ax2.plot(wave_in,1-flux_in3/flux_out3,color='k')\n",
    "ax2.set_ylim(0,0.2)\n",
    "ax2.set_ylabel(r'Absorption ($\\%$)',fontsize=15)\n",
    "ax2.set_xlabel(r'Wavelength ($\\rm{\\AA}$)',fontsize=14)\n",
    "plt.tight_layout()\n",
    "plt.savefig('modelspectra.pdf')"
   ]
  },
  {
   "cell_type": "code",
   "execution_count": 51,
   "metadata": {},
   "outputs": [
    {
     "name": "stdout",
     "output_type": "stream",
     "text": [
      "[0.0533 0.0533 0.0533 0.0533 0.0533 0.0533 0.0533 0.0533 0.0533 0.0533\n",
      " 0.0533 0.0533 0.0533 0.0533 0.0533 0.0533 0.0533 0.0533 0.0533 0.0533\n",
      " 0.0533 0.0533 0.0533 0.0533 0.0533 0.0533 0.0533 0.0533 0.0533 0.0533\n",
      " 0.0533 0.0533 0.0533 0.0533 0.0533 0.0533 0.0533 0.0533 0.0533 0.0533\n",
      " 0.0533 0.0533 0.0533 0.0533 0.0533 0.0533 0.0533 0.0533 0.0533 0.0533\n",
      " 0.0533 0.0533 0.0533 0.0533 0.0533 0.0533 0.0533 0.0533 0.0533 0.0533\n",
      " 0.0533 0.0533 0.0533 0.0533 0.0533 0.0533 0.0533 0.0533 0.0533 0.0533\n",
      " 0.0533 0.0533 0.0533]\n"
     ]
    }
   ],
   "source": [
    "percent = 1-flux_in3/flux_out3\n",
    "dlam = wave_out[1:]-wave_in[:-1]\n",
    "print(dlam)"
   ]
  },
  {
   "cell_type": "code",
   "execution_count": 50,
   "metadata": {},
   "outputs": [
    {
     "data": {
      "text/plain": [
       "0.006649379053125459"
      ]
     },
     "execution_count": 50,
     "metadata": {},
     "output_type": "execute_result"
    }
   ],
   "source": [
    "1-((np.sum(flux_in3)*0.0533)/(np.sum(flux_out3)*0.0533))"
   ]
  },
  {
   "cell_type": "code",
   "execution_count": null,
   "metadata": {},
   "outputs": [],
   "source": []
  }
 ],
 "metadata": {
  "kernelspec": {
   "display_name": "Python 3",
   "language": "python",
   "name": "python3"
  },
  "language_info": {
   "codemirror_mode": {
    "name": "ipython",
    "version": 3
   },
   "file_extension": ".py",
   "mimetype": "text/x-python",
   "name": "python",
   "nbconvert_exporter": "python",
   "pygments_lexer": "ipython3",
   "version": "3.7.4"
  }
 },
 "nbformat": 4,
 "nbformat_minor": 4
}
