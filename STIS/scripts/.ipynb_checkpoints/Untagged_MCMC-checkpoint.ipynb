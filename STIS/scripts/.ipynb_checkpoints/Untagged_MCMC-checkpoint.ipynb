{
 "cells": [
  {
   "cell_type": "code",
   "execution_count": 1,
   "metadata": {},
   "outputs": [],
   "source": [
    "%matplotlib inline\n",
    "import numpy as np\n",
    "import matplotlib.pyplot as plt\n",
    "import emcee\n",
    "import batman\n",
    "import lightkurve\n",
    "from lightkurve import KeplerTargetPixelFile\n",
    "from lightkurve.lightcurve import LightCurve\n",
    "import astropy.io.fits as fits\n",
    "from astropy.io import ascii\n",
    "from scipy import interpolate\n",
    "import math\n",
    "import scipy.special"
   ]
  },
  {
   "cell_type": "code",
   "execution_count": 2,
   "metadata": {},
   "outputs": [],
   "source": [
    "desktop = '/Users/willwaalkes/Desktop/'\n",
    "\n",
    "def BATMAN_MODEL(Baseline, Rp, t = None):\n",
    "    #Next we create a TransitParams object to store the physical parameters describing the transit:\n",
    "\n",
    "    params = batman.TransitParams()\n",
    "    params.t0 = 0.                       #time of inferior conjunction\n",
    "    params.per = 39.09432                #period in hours\n",
    "    params.rp = Rp                       #planet radius (in units of stellar radii)\n",
    "    params.a = 16.                       #semi-major axis (in units of stellar radii)\n",
    "    params.inc = 90.                     #orbital inclination (in degrees)\n",
    "    params.ecc = 0.                      #eccentricity\n",
    "    params.w = 90.                       #longitude of periastron (in degrees)\n",
    "    params.u = [0.1956, 0.3700]          #limb darkening coefficients [u1, u2]\n",
    "    params.limb_dark = \"quadratic\"       #limb darkening model\n",
    "        \n",
    "    m = batman.TransitModel(params, t)    #initializes model\n",
    "    \n",
    "    flux = m.light_curve(params)*Baseline        #calculates light curve\n",
    "    return flux \n",
    "\n",
    "highres_times = np.linspace(-18, 2.5, 500)"
   ]
  },
  {
   "cell_type": "code",
   "execution_count": 3,
   "metadata": {},
   "outputs": [],
   "source": [
    "data_v1_blue = ascii.read(desktop+'Colorado/Research/GJ1132b/GJ1132_Codes/STIS_Codes/erg_visit1_blue.txt')\n",
    "data_v2_blue = ascii.read(desktop+'Colorado/Research/GJ1132b/GJ1132_Codes/STIS_Codes/erg_visit2_blue.txt')\n",
    "data_v1_red = ascii.read(desktop+'Colorado/Research/GJ1132b/GJ1132_Codes/STIS_Codes/erg_visit1_red.txt')\n",
    "data_v2_red = ascii.read(desktop+'Colorado/Research/GJ1132b/GJ1132_Codes/STIS_Codes/erg_visit2_red.txt')"
   ]
  },
  {
   "cell_type": "code",
   "execution_count": 4,
   "metadata": {},
   "outputs": [],
   "source": [
    "alldata = {}\n",
    "alldata['V1 Blue'] = data_v1_blue['Flux'],data_v1_blue['Error'],data_v1_blue['Time_hr']\n",
    "alldata['V1 Red'] = data_v1_red['Flux'],data_v1_red['Error'],data_v1_red['Time_hr']\n",
    "alldata['V2 Blue'] = data_v2_blue['Flux'],data_v2_blue['Error'],data_v2_blue['Time_hr']\n",
    "alldata['V2 Red'] = data_v2_red['Flux'],data_v2_red['Error'],data_v2_red['Time_hr']"
   ]
  },
  {
   "cell_type": "code",
   "execution_count": 16,
   "metadata": {},
   "outputs": [
    {
     "name": "stdout",
     "output_type": "stream",
     "text": [
      "0.9703084529064446\n",
      "0.13077922166241326\n"
     ]
    }
   ],
   "source": [
    "mean_flux = np.mean(data_v2_red['Flux'][0:20])\n",
    "in_trans = np.mean(data_v2_red['Flux'][20:24])\n",
    "relative = in_trans/mean_flux\n",
    "in_trans_err = np.mean(data_v2_red['Error'][20:24])\n",
    "oot_err = np.sqrt(1/(np.sum(1/(data_v2_red['Error'][0:20])**2.0)))\n",
    "sigma_r = np.sqrt((in_trans_err/in_trans)**2.0+(oot_err/mean_flux)**2.0)\n",
    "print(relative)\n",
    "print(sigma_r)"
   ]
  },
  {
   "cell_type": "code",
   "execution_count": 12,
   "metadata": {},
   "outputs": [
    {
     "name": "stdout",
     "output_type": "stream",
     "text": [
      "28\n"
     ]
    }
   ],
   "source": [
    "print(len(data_v2_red['Flux']))"
   ]
  },
  {
   "cell_type": "code",
   "execution_count": 10,
   "metadata": {},
   "outputs": [],
   "source": [
    "Posteriors = {}\n",
    "Posterior_bins = {}"
   ]
  },
  {
   "cell_type": "code",
   "execution_count": 11,
   "metadata": {},
   "outputs": [],
   "source": [
    "def run_emcee(event,Model=True,Plot=True):\n",
    "    \n",
    "    if Model:\n",
    "        # intialize some walkers\n",
    "        ndim, nwalkers, nsteps = 3, 100, 10000\n",
    "        burnin = int(0.3*nsteps)\n",
    "\n",
    "        # these are initial parameters\n",
    "        Base1_initial = np.random.uniform(0, 1, nwalkers)\n",
    "        Base2_initial = np.random.uniform(0, 1, nwalkers)\n",
    "        Rp_initial = np.random.uniform(0.1, 0.5, nwalkers)\n",
    "\n",
    "        p0 = np.transpose([Base1_initial, Base2_initial, Rp_initial])\n",
    "    \n",
    "        #create a sampler and run it\n",
    "        \n",
    "        print(\"Now running emcee with Gaussian lnprob\")\n",
    "        sampler_gauss = emcee.EnsembleSampler(nwalkers, ndim, lnprob_gauss)\n",
    "        result_gauss = sampler_gauss.run_mcmc(p0, nsteps)\n",
    "    \n",
    "        Base1_gauss, Base2_gauss, Rp_gauss = sampler_gauss.chain.T[:, burnin:nsteps, :]\n",
    "\n",
    "        sig1_Rp_gauss = np.percentile(Rp_gauss, [16., 50., 84.])\n",
    "        print(sig1_Rp_gauss)\n",
    "        sig1_Base1_gauss = np.percentile(Base1_gauss, [16., 50., 84.])\n",
    "        print(sig1_Base1_gauss)\n",
    "        sig1_Base2_gauss = np.percentile(Base2_gauss, [16., 50., 84.])\n",
    "        print(sig1_Base2_gauss)\n",
    "\n",
    "        lnprob_gauss(parameters=[sig1_Base1_gauss[1],sig1_Base2_gauss[1],\n",
    "                                 sig1_Rp_gauss[1]],plot=True)\n",
    "        gauss_rp_hist,gauss_bins = np.histogram(Rp_gauss,bins=60,normed=True)\n",
    "    \n",
    "    if Plot:\n",
    "        \"Plot the distributions\"\n",
    "        plt.figure()\n",
    "        plt.plot(gauss_bins[:-1],gauss_rp_hist,label='Gaussian PDF')\n",
    "        plt.title('Rp/R* Distributions')\n",
    "        plt.legend(frameon=False)\n",
    "        plt.xlabel('Rp/R*')\n",
    "        plt.ylabel('Posterior Distrubtions')\n",
    "        plt.savefig('{}_RP_Posteriors.pdf'.format(event))\n",
    "        plt.show()\n",
    "    \n",
    "    Posterior_bins['{} gauss'.format(event)] = gauss_bins\n",
    "    Posteriors['{} gauss'.format(event)] = gauss_rp_hist"
   ]
  },
  {
   "cell_type": "code",
   "execution_count": 34,
   "metadata": {},
   "outputs": [],
   "source": [
    "def lnprob_gauss(parameters, plot=False):\n",
    "    \n",
    "    event1 = 'V1 Red'\n",
    "    event2 = 'V2 Red'\n",
    "        \n",
    "    times = highres_times\n",
    "    \n",
    "    flux1,error1,data_times1 = alldata[event1]\n",
    "    flux2,error2,data_times2 = alldata[event2]\n",
    "        \n",
    "    # pull out some model parameters\n",
    "    Baseline1, Baseline2, Rp = parameters\n",
    "    \n",
    "    model1 = BATMAN_MODEL(Baseline1, Rp, t = data_times1)\n",
    "    model2 = BATMAN_MODEL(Baseline2, Rp, t = data_times2)\n",
    "    \n",
    "    flux_to_plot1 = BATMAN_MODEL(Baseline1, Rp, t = times)\n",
    "    flux_to_plot2 = BATMAN_MODEL(Baseline2, Rp, t = times)\n",
    "    \n",
    "    data1 = flux1\n",
    "    data2 = flux2\n",
    "                            \n",
    "    if plot:\n",
    "        plt.errorbar(data_times1,data1,yerr=error1,fmt='o',alpha = 0.5,label='V1')\n",
    "        plt.plot(times,flux_to_plot1,label='Rp/R* = {a:.2f}'.format(a=Rp),color='k')\n",
    "        \n",
    "        plt.errorbar(data_times2,data2,yerr=error2,fmt='o',alpha = 0.5,label='V2')\n",
    "        plt.plot(times,flux_to_plot2,label='Rp/R* = {a:.2f}'.format(a=Rp),color='k')\n",
    "        \n",
    "        plt.legend(frameon=False)\n",
    "        plt.xlabel('Time (hr from mid transit)')\n",
    "        plt.ylabel('Flux')\n",
    "        plt.show()\n",
    "\n",
    "    if (0.0 < Baseline1) and (0.0 <= Rp < 1.5) and (0.0 < Baseline2):\n",
    "        \n",
    "        lnp1 = np.sum(-(1/2)*(data1-model1)**2.0/(error1)**2.0)\n",
    "        lnp2 = np.sum(-(1/2)*(data2-model2)**2.0/(error2)**2.0)\n",
    "        \n",
    "        return lnp1 + lnp2\n",
    "    \n",
    "        if (lnp1 == NaN):\n",
    "            lnp = -np.inf\n",
    "        \n",
    "        if (lnp2 == NaN):\n",
    "            lnp = -np.inf\n",
    "    \n",
    "    return -np.inf\n",
    "\n",
    "likelihoods = {}\n",
    "likelihoods['gauss'] = lnprob_gauss"
   ]
  },
  {
   "cell_type": "code",
   "execution_count": 35,
   "metadata": {},
   "outputs": [
    {
     "name": "stdout",
     "output_type": "stream",
     "text": [
      "Now running emcee with Gaussian lnprob\n",
      "[0.06477421 0.17618452 0.27870223]\n",
      "[0.84254716 0.86813167 0.89382708]\n",
      "[1.14336449 1.17219806 1.20092991]\n"
     ]
    },
    {
     "data": {
      "image/png": "[encoded data removed]",
      "text/plain": [
       "<Figure size 432x288 with 1 Axes>"
      ]
     },
     "metadata": {},
     "output_type": "display_data"
    },
    {
     "data": {
      "image/png": "[encoded data removed]",
      "text/plain": [
       "<Figure size 432x288 with 1 Axes>"
      ]
     },
     "metadata": {},
     "output_type": "display_data"
    }
   ],
   "source": [
    "run_emcee(event='Red')"
   ]
  },
  {
   "cell_type": "code",
   "execution_count": 28,
   "metadata": {},
   "outputs": [],
   "source": [
    "def joint_dist(shift,pdf):\n",
    "    \"\"\"Create a normalized joint posterior for both events\"\"\"\n",
    "    \n",
    "    bins = Posterior_bins['{a} {b}'.format(a=shift,b=pdf)]\n",
    "    rp_hist = Posteriors['{a} {b}'.format(a=shift,b=pdf)] \n",
    "    \n",
    "    CDF = np.cumsum(rp_hist)\n",
    "    CDF = CDF/np.max(CDF)\n",
    "    for i in range(len(CDF)):\n",
    "        if (CDF[i] >= 0.95):\n",
    "            twosig = i\n",
    "            break\n",
    "\n",
    "    plt.figure()\n",
    "    plt.plot(bins[:-1],rp_hist,color='red')\n",
    "    \n",
    "    plt.axvline(bins[twosig],color='gray',linestyle='-',\n",
    "                label='Red 2-$\\sigma$ Rp ={:.2f}'.format(bins[twosig]))\n",
    "    \n",
    "    shift='Blue'\n",
    "    pdf='gauss'\n",
    "\n",
    "    bins = Posterior_bins['{a} {b}'.format(a=shift,b=pdf)]\n",
    "    rp_hist = Posteriors['{a} {b}'.format(a=shift,b=pdf)]\n",
    "    \n",
    "    CDF = np.cumsum(rp_hist) \n",
    "    CDF = CDF/np.max(CDF)\n",
    "    for i in range(len(CDF)):\n",
    "        if (CDF[i] >= 0.95):\n",
    "            twosig = i\n",
    "            break\n",
    "\n",
    "    plt.plot(bins[:-1],rp_hist,color='blue')\n",
    "    plt.axvline(bins[twosig],color='gray',linestyle='--',\n",
    "                label='Blue 2-$\\sigma$ Rp ={:.2f}'.format(bins[twosig]))\n",
    "    plt.title('Joint Rp/R* Posterior with Gaussian Likelihood')\n",
    "    plt.xlabel('Rp/R*')\n",
    "    plt.ylabel('Normalized Distrubtion')\n",
    "    plt.legend()\n",
    "    plt.tight_layout()\n",
    "    plt.savefig('Blue_Red_Joint_Rp_Posterior.pdf')\n",
    "    plt.show()"
   ]
  },
  {
   "cell_type": "code",
   "execution_count": 29,
   "metadata": {},
   "outputs": [
    {
     "data": {
      "image/png": "[encoded data removed]",
      "text/plain": [
       "<Figure size 432x288 with 1 Axes>"
      ]
     },
     "metadata": {},
     "output_type": "display_data"
    }
   ],
   "source": [
    "joint_dist(shift='Red',pdf='gauss')"
   ]
  },
  {
   "cell_type": "code",
   "execution_count": null,
   "metadata": {},
   "outputs": [],
   "source": []
  }
 ],
 "metadata": {
  "kernelspec": {
   "display_name": "Python 3",
   "language": "python",
   "name": "python3"
  },
  "language_info": {
   "codemirror_mode": {
    "name": "ipython",
    "version": 3
   },
   "file_extension": ".py",
   "mimetype": "text/x-python",
   "name": "python",
   "nbconvert_exporter": "python",
   "pygments_lexer": "ipython3",
   "version": "3.7.4"
  }
 },
 "nbformat": 4,
 "nbformat_minor": 4
}
